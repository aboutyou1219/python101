{
  "nbformat": 4,
  "nbformat_minor": 0,
  "metadata": {
    "colab": {
      "name": "py101_01_基本語法(Basic Syntax).ipynb",
      "provenance": [],
      "collapsed_sections": [],
      "authorship_tag": "ABX9TyOPtChJ1uy/Lg8rlrfwCwzu",
      "include_colab_link": true
    },
    "kernelspec": {
      "name": "python3",
      "display_name": "Python 3"
    },
    "language_info": {
      "name": "python"
    }
  },
  "cells": [
    {
      "cell_type": "markdown",
      "metadata": {
        "id": "view-in-github",
        "colab_type": "text"
      },
      "source": [
        "<a href=\"https://colab.research.google.com/github/aboutyou1219/python101/blob/main/py101_01_%E5%9F%BA%E6%9C%AC%E8%AA%9E%E6%B3%95(Basic_Syntax).ipynb\" target=\"_parent\"><img src=\"https://colab.research.google.com/assets/colab-badge.svg\" alt=\"Open In Colab\"/></a>"
      ]
    },
    {
      "cell_type": "markdown",
      "source": [
        "Py101是一個初級的python學習筆記本，會發展成什麼樣子，我也不知道。\n",
        "開始囉。"
      ],
      "metadata": {
        "id": "O_cOyq7_7ZTP"
      }
    },
    {
      "cell_type": "markdown",
      "source": [
        "# 變數(Variable)"
      ],
      "metadata": {
        "id": "kHNbejlG4oqu"
      }
    },
    {
      "cell_type": "markdown",
      "source": [
        "所有程式語言都從變數(Variable)開始，提到變數就不得不講一下符號=在程式語言內的意思。有個笑話這樣說：「程式設計師的數學到底是差到什麼程度？為什麼會寫下x = x + 1這種數學式？數學老師很生氣，正在背後看著程式設計師。」不是這樣的齁，=這個符號在程式語言裡的英文是assign，中文可能翻譯成指派，所以看到x = x + 1，念起來應該是「將x+1的結果指派給x」，這樣有沒有清楚一點？\n",
        "\n",
        "根據Think python 2e內的定義，充分說明了變數的內涵：\n",
        "A variable is a name that refers to a value.\n",
        "變數是一個有參照值的名稱。\n",
        "名稱不變，但參照值可以任意變動。\n",
        "\n",
        "Python的變數可以隨時建立並且指派「整數」、「浮點數」、「字串」等內容，下面就讓我們來試試看：\n"
      ],
      "metadata": {
        "id": "glIzUVpe7qjS"
      }
    },
    {
      "cell_type": "code",
      "source": [
        "myVariable = 3 #整數3指派給myVariable\n",
        "print(\"myVariable=\"+ str(myVariable))\n",
        "print(type(myVariable))"
      ],
      "metadata": {
        "colab": {
          "base_uri": "https://localhost:8080/"
        },
        "id": "dm6evpg89OcT",
        "outputId": "c0f1da7f-c103-47c4-bed2-668d7749f3cb"
      },
      "execution_count": null,
      "outputs": [
        {
          "output_type": "stream",
          "name": "stdout",
          "text": [
            "myVariable=3\n",
            "<class 'int'>\n"
          ]
        }
      ]
    },
    {
      "cell_type": "code",
      "source": [
        "myVariable = 3.0 #浮點數3.0指派給myVariable\n",
        "print(\"myVariable=\"+ str(myVariable))\n",
        "print(type(myVariable))"
      ],
      "metadata": {
        "colab": {
          "base_uri": "https://localhost:8080/"
        },
        "id": "lpOSKEkJ9qEG",
        "outputId": "c287155a-391e-4cbd-da2f-8de14153fe0c"
      },
      "execution_count": null,
      "outputs": [
        {
          "output_type": "stream",
          "name": "stdout",
          "text": [
            "myVariable=3.0\n",
            "<class 'float'>\n"
          ]
        }
      ]
    },
    {
      "cell_type": "code",
      "source": [
        "myVariable = \"三\" #中文字三指派給myVariable\n",
        "print(\"myVariable=\"+ str(myVariable))\n",
        "print(type(myVariable))"
      ],
      "metadata": {
        "colab": {
          "base_uri": "https://localhost:8080/"
        },
        "id": "o_SBV2Dm9sxJ",
        "outputId": "94e29a8d-a372-4bfd-f332-900d797226ae"
      },
      "execution_count": null,
      "outputs": [
        {
          "output_type": "stream",
          "name": "stdout",
          "text": [
            "myVariable=三\n",
            "<class 'str'>\n"
          ]
        }
      ]
    },
    {
      "cell_type": "code",
      "source": [
        "myVariable = False #True/False指派給myVariable\n",
        "print(\"myVariable=\"+ str(myVariable))\n",
        "print(type(myVariable))"
      ],
      "metadata": {
        "colab": {
          "base_uri": "https://localhost:8080/"
        },
        "id": "4lv8qh88-MqB",
        "outputId": "976baa98-9c8a-4b66-e131-b0529aba0498"
      },
      "execution_count": null,
      "outputs": [
        {
          "output_type": "stream",
          "name": "stdout",
          "text": [
            "myVariable=False\n",
            "<class 'bool'>\n"
          ]
        }
      ]
    },
    {
      "cell_type": "markdown",
      "source": [
        "這裡就是神奇的python變數容器了，你指派整數，他的型態就是整數(int)，你指派浮點數，變數的型態就變成浮點數(float)了。"
      ],
      "metadata": {
        "id": "qnK4xRwL93Xf"
      }
    },
    {
      "cell_type": "markdown",
      "source": [
        "## 變數名稱與關鍵字(Variabel Names and Key word)\n"
      ],
      "metadata": {
        "id": "A76zgTT8g4aR"
      }
    },
    {
      "cell_type": "markdown",
      "source": [
        "變數名稱規則:\n",
        "* 不能用數字開頭\n",
        "* 不能包含特殊符號，如@\n",
        "* 不能使用關鍵字(Keyword)\n"
      ],
      "metadata": {
        "id": "x9mCVXX9h9wk"
      }
    },
    {
      "cell_type": "code",
      "source": [
        "import keyword\n",
        "print(keyword.kwlist)"
      ],
      "metadata": {
        "colab": {
          "base_uri": "https://localhost:8080/"
        },
        "id": "82TYyV7liaa1",
        "outputId": "f1ec217c-1730-4c2c-bfde-804bb0ba1c3a"
      },
      "execution_count": null,
      "outputs": [
        {
          "output_type": "stream",
          "name": "stdout",
          "text": [
            "['False', 'None', 'True', 'and', 'as', 'assert', 'async', 'await', 'break', 'class', 'continue', 'def', 'del', 'elif', 'else', 'except', 'finally', 'for', 'from', 'global', 'if', 'import', 'in', 'is', 'lambda', 'nonlocal', 'not', 'or', 'pass', 'raise', 'return', 'try', 'while', 'with', 'yield']\n"
          ]
        }
      ]
    },
    {
      "cell_type": "markdown",
      "source": [
        "# 函數(Function)"
      ],
      "metadata": {
        "id": "mU3RVEccCoJv"
      }
    },
    {
      "cell_type": "markdown",
      "source": [
        "python的函數(function)主要有幾個零件組成：def, (), :, 縮排, return，通常你看到def開頭，就代表下面有一段函數。\n",
        "def 後面會接上「函數名稱(function name)＋括號() + 冒號:」所以整個看起來是 def functionName():\n",
        "如果你的文字編輯器夠聰明，當你按下Enter時，文字編輯器會幫你「換行」加「縮排」，因為文字編輯器偵測到你要建立函數。但如果文字編輯器不夠聰明，記得要自己按一下Tab鍵。\n",
        "再來就是函數的內容了...先不多說\n",
        "最後可以「選擇」要不要有回傳值，要的話，就是用關鍵字return，不要的話也沒關係。"
      ],
      "metadata": {
        "id": "jpYrCYWZCzuk"
      }
    },
    {
      "cell_type": "code",
      "source": [
        "def testFunc(): #定義函數\n",
        "  x = x +1      #函數內容\n",
        "  return x      #回傳值"
      ],
      "metadata": {
        "id": "JkrsKmPgEN6-"
      },
      "execution_count": null,
      "outputs": []
    },
    {
      "cell_type": "markdown",
      "source": [
        ""
      ],
      "metadata": {
        "id": "M_Hk0nmVEW0Y"
      }
    }
  ]
}